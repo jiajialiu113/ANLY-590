{
 "cells": [
  {
   "cell_type": "markdown",
   "metadata": {
    "colab_type": "text",
    "id": "Jly6eEH4Fwm3"
   },
   "source": [
    "# ANLY-590 Homework 2 \n",
    "\n",
    "## Jiajia Liu collaborated with Hanjing Wang"
   ]
  },
  {
   "cell_type": "code",
   "execution_count": 0,
   "metadata": {
    "colab": {},
    "colab_type": "code",
    "id": "pHvpWVKL-lYp"
   },
   "outputs": [],
   "source": [
    "# library\n",
    "from keras.layers import Input, Dense, Conv2D, MaxPooling2D, UpSampling2D, Dropout, Activation, Flatten,Embedding,SimpleRNN, LSTM,Conv1D,MaxPooling1D\n",
    "from keras.models import Model,Sequential\n",
    "from keras.datasets import mnist,fashion_mnist\n",
    "import numpy as np\n",
    "import matplotlib.pyplot as plt\n",
    "# Tools for data transformation\n",
    "from keras.utils import np_utils\n",
    "from keras.optimizers import RMSprop"
   ]
  },
  {
   "cell_type": "markdown",
   "metadata": {
    "colab_type": "text",
    "id": "7r0FYYFYHGYe"
   },
   "source": [
    "# Exercise 1"
   ]
  },
  {
   "cell_type": "code",
   "execution_count": 0,
   "metadata": {
    "colab": {},
    "colab_type": "code",
    "id": "FDVukTumAImN"
   },
   "outputs": [],
   "source": [
    "# load fashion_mnist data\n",
    "(x_train, _), (x_test, _) = fashion_mnist.load_data()\n",
    "\n",
    "x_train = x_train.astype('float32') / 255.\n",
    "x_test = x_test.astype('float32') / 255.\n",
    "x_train = np.reshape(x_train, (len(x_train), 28, 28, 1))\n",
    "x_test = np.reshape(x_test, (len(x_test), 28, 28, 1))"
   ]
  },
  {
   "cell_type": "code",
   "execution_count": 59,
   "metadata": {
    "colab": {
     "base_uri": "https://localhost:8080/",
     "height": 34
    },
    "colab_type": "code",
    "id": "_SEdGs8KBBWY",
    "outputId": "ef3cfdce-6d8e-4442-dfdc-b27a5dbece40"
   },
   "outputs": [
    {
     "data": {
      "text/plain": [
       "(60000, 28, 28, 1)"
      ]
     },
     "execution_count": 59,
     "metadata": {
      "tags": []
     },
     "output_type": "execute_result"
    }
   ],
   "source": [
    "x_train.shape"
   ]
  },
  {
   "cell_type": "code",
   "execution_count": 0,
   "metadata": {
    "colab": {},
    "colab_type": "code",
    "id": "pVheZWo5BNGo"
   },
   "outputs": [],
   "source": [
    "# Convolutional autoencoder\n",
    "input_img = Input(shape=(28, 28, 1))\n",
    "\n",
    "# for the encoded layer\n",
    "x = Conv2D(24, (3, 3), activation='relu', padding='same')(input_img)\n",
    "x = MaxPooling2D((2, 2), padding='same')(x)\n",
    "x = Conv2D(8, (3, 3), activation='relu', padding='same')(x)\n",
    "x = MaxPooling2D((2, 2), padding='same')(x)\n",
    "x = Conv2D(8, (3, 3), activation='sigmoid', padding='same')(x)\n",
    "encoded = MaxPooling2D((2, 2), padding='same')(x)\n",
    "\n",
    "# for the decoded layer\n",
    "x = Conv2D(8, (3, 3), activation='relu', padding='same')(encoded)\n",
    "x = UpSampling2D((2, 2))(x)\n",
    "x = Conv2D(8, (3, 3), activation='sigmoid', padding='same')(x)\n",
    "x = UpSampling2D((2, 2))(x)\n",
    "x = Conv2D(16, (3, 3), activation='relu')(x)\n",
    "x = UpSampling2D((2, 2))(x)\n",
    "decoded = Conv2D(1, (3, 3), activation='sigmoid', padding='same')(x)\n",
    "\n",
    "autoencoder = Model(input_img, decoded)\n",
    "autoencoder.compile(optimizer='adadelta', loss='binary_crossentropy')"
   ]
  },
  {
   "cell_type": "code",
   "execution_count": 61,
   "metadata": {
    "colab": {
     "base_uri": "https://localhost:8080/",
     "height": 374
    },
    "colab_type": "code",
    "id": "xQNOI1jFCbpr",
    "outputId": "d07f72ba-d40d-4aaa-a3b0-0ee90fa8ac22"
   },
   "outputs": [
    {
     "name": "stdout",
     "output_type": "stream",
     "text": [
      "Epoch 1/10\n",
      "60000/60000 [==============================] - 21s 346us/step - loss: 0.3591\n",
      "Epoch 2/10\n",
      "60000/60000 [==============================] - 20s 335us/step - loss: 0.3112\n",
      "Epoch 3/10\n",
      "60000/60000 [==============================] - 21s 345us/step - loss: 0.3040\n",
      "Epoch 4/10\n",
      "60000/60000 [==============================] - 21s 351us/step - loss: 0.2998\n",
      "Epoch 5/10\n",
      "60000/60000 [==============================] - 21s 357us/step - loss: 0.2968\n",
      "Epoch 6/10\n",
      "60000/60000 [==============================] - 21s 345us/step - loss: 0.2947\n",
      "Epoch 7/10\n",
      "60000/60000 [==============================] - 20s 341us/step - loss: 0.2928\n",
      "Epoch 8/10\n",
      "60000/60000 [==============================] - 20s 341us/step - loss: 0.2914\n",
      "Epoch 9/10\n",
      "60000/60000 [==============================] - 20s 340us/step - loss: 0.2901\n",
      "Epoch 10/10\n",
      "60000/60000 [==============================] - 21s 347us/step - loss: 0.2892\n"
     ]
    },
    {
     "data": {
      "text/plain": [
       "<keras.callbacks.History at 0x7f5cd4c287b8>"
      ]
     },
     "execution_count": 61,
     "metadata": {
      "tags": []
     },
     "output_type": "execute_result"
    }
   ],
   "source": [
    "from keras.callbacks import TensorBoard\n",
    "\n",
    "autoencoder.fit(x_train, x_train,\n",
    "                epochs=10,\n",
    "                batch_size=36,\n",
    "                shuffle=True,\n",
    "                callbacks=[TensorBoard(log_dir='/tmp/autoencoder')])"
   ]
  },
  {
   "cell_type": "markdown",
   "metadata": {
    "colab_type": "text",
    "id": "gmWs6sxjBSu5"
   },
   "source": [
    "Finally, we compare the input images and the output images. The first row shows the input images and the second row shows the decoded reconstruction"
   ]
  },
  {
   "cell_type": "code",
   "execution_count": 62,
   "metadata": {
    "colab": {
     "base_uri": "https://localhost:8080/",
     "height": 248
    },
    "colab_type": "code",
    "id": "aXZEyIqZE_Hd",
    "outputId": "0c548451-993a-4e86-e441-b570ec364ed9"
   },
   "outputs": [
    {
     "data": {
      "image/png": "[encoded data removed]",
      "text/plain": [
       "<matplotlib.figure.Figure at 0x7f5cd4c59d68>"
      ]
     },
     "metadata": {
      "tags": []
     },
     "output_type": "display_data"
    }
   ],
   "source": [
    "decoded_imgs = autoencoder.predict(x_test)\n",
    "\n",
    "n = 10\n",
    "plt.figure(figsize=(25, 4))\n",
    "for i in range(n):\n",
    "    # display original\n",
    "    ax = plt.subplot(2, n, i+1)\n",
    "    plt.imshow(x_test[i].reshape(28, 28))\n",
    "    plt.gray()\n",
    "    ax.get_xaxis().set_visible(False)\n",
    "    ax.get_yaxis().set_visible(False)\n",
    "\n",
    "    # display reconstruction\n",
    "    ax = plt.subplot(2, n, i + n+1)\n",
    "    plt.imshow(decoded_imgs[i].reshape(28, 28))\n",
    "    plt.gray()\n",
    "    ax.get_xaxis().set_visible(False)\n",
    "    ax.get_yaxis().set_visible(False)\n",
    "plt.show()"
   ]
  },
  {
   "cell_type": "markdown",
   "metadata": {
    "colab_type": "text",
    "id": "lz5Ai9Y9HO7E"
   },
   "source": [
    "# Exercise 2"
   ]
  },
  {
   "cell_type": "markdown",
   "metadata": {
    "colab_type": "text",
    "id": "Idqiwtv6N7Gb"
   },
   "source": [
    "## Deep CNN"
   ]
  },
  {
   "cell_type": "code",
   "execution_count": 63,
   "metadata": {
    "colab": {
     "base_uri": "https://localhost:8080/",
     "height": 68
    },
    "colab_type": "code",
    "id": "NtwbWQKfK2KN",
    "outputId": "0f00732f-8c0e-4d49-9681-6c86450e1da8"
   },
   "outputs": [
    {
     "name": "stdout",
     "output_type": "stream",
     "text": [
      "(60000,)\n",
      "[9 0 0 3 0 2 7 2 5 5]\n",
      "(60000, 10)\n"
     ]
    }
   ],
   "source": [
    "# ========================\n",
    "#  Data Munging/Reshaping\n",
    "# ========================\n",
    "# Load pre-shuffled fashion MNIST data into train and test sets\n",
    "(X_train, y_train), (X_test, y_test) = fashion_mnist.load_data()\n",
    "# Declaring a depth of 1 for MNIST\n",
    "X_train = X_train.reshape(X_train.shape[0], 28, 28,1)\n",
    "X_test = X_test.reshape(X_test.shape[0], 28, 28,1)\n",
    "\n",
    "# Setting up calues as float32s that are bounded between 0 and 1\n",
    "X_train = X_train.astype('float32')\n",
    "X_test = X_test.astype('float32')\n",
    "X_train /= 255\n",
    "X_test /= 255\n",
    "\n",
    "# Processing class labels they are currently a numeric vector\n",
    "# ----> we need to transform them into categories\n",
    "print (y_train.shape)\n",
    "print (y_train[:10])\n",
    "\n",
    "# We do this through one-hot encoding\n",
    "# Convert 1-dimensional class arrays to 10-dimensional class matrices\n",
    "Y_train = np_utils.to_categorical(y_train, 10)\n",
    "Y_test = np_utils.to_categorical(y_test, 10)\n",
    "# Check the shape\n",
    "print(Y_train.shape)"
   ]
  },
  {
   "cell_type": "markdown",
   "metadata": {
    "colab_type": "text",
    "id": "HTOx9sd5CB7r"
   },
   "source": [
    "Here is the Deep CNN architecture. The first layer is  a 2D convolutional layer with filters depth 16, kernel_size (2,2), strides (1,1), activation function 'sigmoid' and padding method 'valid'. Then there is another 2D convolutional layer with filters depth 24, kernel_size (3,3), strides (1,1), activation function 'sigmoid' and padding method 'valid'. Next, we Apply MaxPooling2D with pool_size (2,2) and Dropout(0.25). Then, we flatten all our parameters and add a Dence layer of size 64 with activation function 'relu'. Finally, we add a dropout layer and generate a final output layer of size 10 for the 10 class classification problem."
   ]
  },
  {
   "cell_type": "code",
   "execution_count": 64,
   "metadata": {
    "colab": {
     "base_uri": "https://localhost:8080/",
     "height": 442
    },
    "colab_type": "code",
    "id": "Eq4nybGhHRej",
    "outputId": "0f46f01d-361c-43bb-ff00-bc07e244b335"
   },
   "outputs": [
    {
     "name": "stdout",
     "output_type": "stream",
     "text": [
      "(None, 27, 27, 16)\n",
      "_________________________________________________________________\n",
      "Layer (type)                 Output Shape              Param #   \n",
      "=================================================================\n",
      "conv2d_40 (Conv2D)           (None, 27, 27, 16)        80        \n",
      "_________________________________________________________________\n",
      "conv2d_41 (Conv2D)           (None, 25, 25, 24)        3480      \n",
      "_________________________________________________________________\n",
      "max_pooling2d_19 (MaxPooling (None, 12, 12, 24)        0         \n",
      "_________________________________________________________________\n",
      "dropout_9 (Dropout)          (None, 12, 12, 24)        0         \n",
      "_________________________________________________________________\n",
      "flatten_7 (Flatten)          (None, 3456)              0         \n",
      "_________________________________________________________________\n",
      "dense_14 (Dense)             (None, 64)                221248    \n",
      "_________________________________________________________________\n",
      "dropout_10 (Dropout)         (None, 64)                0         \n",
      "_________________________________________________________________\n",
      "dense_15 (Dense)             (None, 10)                650       \n",
      "=================================================================\n",
      "Total params: 225,458\n",
      "Trainable params: 225,458\n",
      "Non-trainable params: 0\n",
      "_________________________________________________________________\n",
      "None\n"
     ]
    }
   ],
   "source": [
    "# =============================\n",
    "#  Setting up the Architecture\n",
    "# ============================\n",
    "# Declaring sequential model\n",
    "model = Sequential()\n",
    "# CNN input layer: input_shape: (depth,width,height)\n",
    "# CNN convolution: number of filters, height and width of kernel\n",
    "model.add(Conv2D(filters = 16,kernel_size=(2, 2), \n",
    "                 activation='relu', strides=(1, 1), \n",
    "                 padding='valid',\n",
    "                 input_shape=(28,28,1)))\n",
    "# Notice here the the first entry output is none\n",
    "print(model.output_shape)\n",
    "\n",
    "# Next we add the remaining layers\n",
    "model.add(Conv2D(filters = 24,kernel_size=(3, 3), \n",
    "                 activation='relu', strides=(1, 1), \n",
    "                 padding='valid', input_shape=(28,28,1)))\n",
    "model.add(MaxPooling2D(pool_size=(2,2)))\n",
    "model.add(Dropout(0.25))\n",
    "\n",
    "# Setting up the fully connected lauer\n",
    "model.add(Flatten())\n",
    "model.add(Dense(64, activation='relu'))\n",
    "model.add(Dropout(0.5))\n",
    "model.add(Dense(10, activation='softmax'))\n",
    "print (model.summary())"
   ]
  },
  {
   "cell_type": "code",
   "execution_count": 65,
   "metadata": {
    "colab": {
     "base_uri": "https://localhost:8080/",
     "height": 374
    },
    "colab_type": "code",
    "id": "5X85xtiUKdRK",
    "outputId": "212299a0-cd7c-4707-ae45-37324328c789"
   },
   "outputs": [
    {
     "name": "stdout",
     "output_type": "stream",
     "text": [
      "Epoch 1/10\n",
      "60000/60000 [==============================] - 7s 119us/step - loss: 0.6639 - acc: 0.7670\n",
      "Epoch 2/10\n",
      "60000/60000 [==============================] - 6s 103us/step - loss: 0.4433 - acc: 0.8447\n",
      "Epoch 3/10\n",
      "60000/60000 [==============================] - 6s 103us/step - loss: 0.3965 - acc: 0.8592\n",
      "Epoch 4/10\n",
      "60000/60000 [==============================] - 6s 102us/step - loss: 0.3666 - acc: 0.8698\n",
      "Epoch 5/10\n",
      "60000/60000 [==============================] - 6s 101us/step - loss: 0.3448 - acc: 0.8761\n",
      "Epoch 6/10\n",
      "60000/60000 [==============================] - 6s 102us/step - loss: 0.3274 - acc: 0.8815\n",
      "Epoch 7/10\n",
      "60000/60000 [==============================] - 6s 100us/step - loss: 0.3136 - acc: 0.8863\n",
      "Epoch 8/10\n",
      "60000/60000 [==============================] - 6s 100us/step - loss: 0.2969 - acc: 0.8916\n",
      "Epoch 9/10\n",
      "60000/60000 [==============================] - 6s 101us/step - loss: 0.2857 - acc: 0.8960\n",
      "Epoch 10/10\n",
      "60000/60000 [==============================] - 6s 102us/step - loss: 0.2749 - acc: 0.8997\n"
     ]
    },
    {
     "data": {
      "text/plain": [
       "<keras.callbacks.History at 0x7f5cd36313c8>"
      ]
     },
     "execution_count": 65,
     "metadata": {
      "tags": []
     },
     "output_type": "execute_result"
    }
   ],
   "source": [
    "# =====================\n",
    "#  Compiling the model\n",
    "# =====================\n",
    "model.compile(loss='categorical_crossentropy',\n",
    "              optimizer='adam',\n",
    "              metrics=['accuracy'])\n",
    "\n",
    "# ===================\n",
    "# Fitting the model\n",
    "# ===================\n",
    "model.fit(X_train, Y_train,\n",
    "          epochs=10,\n",
    "          batch_size=128)"
   ]
  },
  {
   "cell_type": "code",
   "execution_count": 66,
   "metadata": {
    "colab": {
     "base_uri": "https://localhost:8080/",
     "height": 51
    },
    "colab_type": "code",
    "id": "kus6jdYZLqdh",
    "outputId": "03360775-4c1b-4b57-8b3c-cf10892eda5d"
   },
   "outputs": [
    {
     "name": "stdout",
     "output_type": "stream",
     "text": [
      "10000/10000 [==============================] - 1s 129us/step\n"
     ]
    },
    {
     "data": {
      "text/plain": [
       "[0.24351253509521484, 0.9119]"
      ]
     },
     "execution_count": 66,
     "metadata": {
      "tags": []
     },
     "output_type": "execute_result"
    }
   ],
   "source": [
    "# =====================\n",
    "#  Evaluating the model\n",
    "# =====================\n",
    "model.evaluate(X_test, Y_test)"
   ]
  },
  {
   "cell_type": "markdown",
   "metadata": {
    "colab_type": "text",
    "id": "ZD5vxeihGhGF"
   },
   "source": [
    "Here is the evaluation result. We could see that the training error is 0.8997. The test error is 0.9119 which could show that it is a pretty good model. The results are almost correct for this classification problem."
   ]
  },
  {
   "cell_type": "markdown",
   "metadata": {
    "colab_type": "text",
    "id": "d_qXOPzfLsEV"
   },
   "source": [
    "## Transfer learning"
   ]
  },
  {
   "cell_type": "code",
   "execution_count": 0,
   "metadata": {
    "colab": {},
    "colab_type": "code",
    "id": "n1hDmt9fLu3Q"
   },
   "outputs": [],
   "source": [
    "from keras.applications import VGG16, ResNet50\n",
    "from keras.preprocessing.image import ImageDataGenerator, array_to_img, img_to_array, load_img\n",
    "from keras import backend as K\n",
    "import tensorflow as tf\n",
    "\n",
    "def grayscale_to_rgb(images, channel_axis=-1):\n",
    "    images= K.expand_dims(images, axis=channel_axis)\n",
    "    tiling = [1] * 4    # 4 dimensions: B, H, W, C\n",
    "    tiling[channel_axis] *= 3\n",
    "    images= K.tile(images, tiling)\n",
    "    return images\n",
    " \n",
    "(X_train, y_train), (X_test, y_test) = fashion_mnist.load_data()\n",
    "# Declaring a depth of 1 for MNIST\n",
    "X_train = X_train.reshape(X_train.shape[0], 28, 28)\n",
    "X_test = X_test.reshape(X_test.shape[0], 28, 28)\n",
    "\n",
    "Y_train = np_utils.to_categorical(y_train, 10)\n",
    "Y_test = np_utils.to_categorical(y_test, 10)\n",
    "\n",
    "# tranfer the greyscale data to rgb and (28,28,3) images to (48,48,3)\n",
    "x_train = grayscale_to_rgb(X_train)\n",
    "x_train = tf.image.resize_images(x_train, [48, 48])\n",
    "\n",
    "x_test = grayscale_to_rgb(X_test)\n",
    "x_test = tf.image.resize_images(x_test, [48, 48])\n",
    "\n",
    "sess = tf.Session()\n",
    "x_train = sess.run(x_train)\n",
    "x_test= sess.run(x_test)"
   ]
  },
  {
   "cell_type": "code",
   "execution_count": 0,
   "metadata": {
    "colab": {},
    "colab_type": "code",
    "id": "MCNSQGOdOYNT"
   },
   "outputs": [],
   "source": [
    "conv_base = VGG16(weights=\"imagenet\",include_top=False,input_shape=(48,48,3))"
   ]
  },
  {
   "cell_type": "code",
   "execution_count": 73,
   "metadata": {
    "colab": {
     "base_uri": "https://localhost:8080/",
     "height": 306
    },
    "colab_type": "code",
    "id": "E5fIR4GAUYw6",
    "outputId": "c7f8ac71-3df4-4a68-fb8f-5c5f4b32506a"
   },
   "outputs": [
    {
     "name": "stdout",
     "output_type": "stream",
     "text": [
      "_________________________________________________________________\n",
      "Layer (type)                 Output Shape              Param #   \n",
      "=================================================================\n",
      "vgg16 (Model)                (None, 1, 1, 512)         14714688  \n",
      "_________________________________________________________________\n",
      "flatten_9 (Flatten)          (None, 512)               0         \n",
      "_________________________________________________________________\n",
      "dense_19 (Dense)             (None, 64)                32832     \n",
      "_________________________________________________________________\n",
      "dense_20 (Dense)             (None, 64)                4160      \n",
      "_________________________________________________________________\n",
      "dense_21 (Dense)             (None, 10)                650       \n",
      "=================================================================\n",
      "Total params: 14,752,330\n",
      "Trainable params: 37,642\n",
      "Non-trainable params: 14,714,688\n",
      "_________________________________________________________________\n"
     ]
    }
   ],
   "source": [
    "model = Sequential()\n",
    "model.add(conv_base)\n",
    "model.add(Flatten())\n",
    "model.add(Dense(64, activation=\"relu\"))\n",
    "model.add(Dense(64, activation=\"relu\"))\n",
    "model.add(Dense(10, activation=\"sigmoid\"))\n",
    "model.summary()"
   ]
  },
  {
   "cell_type": "code",
   "execution_count": 74,
   "metadata": {
    "colab": {
     "base_uri": "https://localhost:8080/",
     "height": 119
    },
    "colab_type": "code",
    "id": "IqKjWj6JV8nN",
    "outputId": "0256d884-8587-42e5-a899-d9e9e9a402c2"
   },
   "outputs": [
    {
     "data": {
      "text/plain": [
       "[<tf.Variable 'dense_19/kernel:0' shape=(512, 64) dtype=float32_ref>,\n",
       " <tf.Variable 'dense_19/bias:0' shape=(64,) dtype=float32_ref>,\n",
       " <tf.Variable 'dense_20/kernel:0' shape=(64, 64) dtype=float32_ref>,\n",
       " <tf.Variable 'dense_20/bias:0' shape=(64,) dtype=float32_ref>,\n",
       " <tf.Variable 'dense_21/kernel:0' shape=(64, 10) dtype=float32_ref>,\n",
       " <tf.Variable 'dense_21/bias:0' shape=(10,) dtype=float32_ref>]"
      ]
     },
     "execution_count": 74,
     "metadata": {
      "tags": []
     },
     "output_type": "execute_result"
    }
   ],
   "source": [
    "conv_base.trainable = False\n",
    "model.trainable_weights"
   ]
  },
  {
   "cell_type": "code",
   "execution_count": 0,
   "metadata": {
    "colab": {},
    "colab_type": "code",
    "id": "hEcj7szLWCUi"
   },
   "outputs": [],
   "source": [
    "model.compile(loss=\"categorical_crossentropy\", optimizer=RMSprop(1e-4),metrics=[\"acc\"])"
   ]
  },
  {
   "cell_type": "code",
   "execution_count": 76,
   "metadata": {
    "colab": {
     "base_uri": "https://localhost:8080/",
     "height": 374
    },
    "colab_type": "code",
    "id": "V6gpF6S0WWhV",
    "outputId": "68ad263b-03f3-475f-8be1-1b45b04a094b"
   },
   "outputs": [
    {
     "name": "stdout",
     "output_type": "stream",
     "text": [
      "Epoch 1/10\n",
      "60000/60000 [==============================] - 36s 607us/step - loss: 1.8422 - acc: 0.2280\n",
      "Epoch 2/10\n",
      "60000/60000 [==============================] - 36s 599us/step - loss: 1.0034 - acc: 0.6471\n",
      "Epoch 3/10\n",
      "60000/60000 [==============================] - 36s 595us/step - loss: 0.7089 - acc: 0.7576\n",
      "Epoch 4/10\n",
      "60000/60000 [==============================] - 37s 623us/step - loss: 0.6081 - acc: 0.7916\n",
      "Epoch 5/10\n",
      "60000/60000 [==============================] - 38s 633us/step - loss: 0.5490 - acc: 0.8121\n",
      "Epoch 6/10\n",
      "60000/60000 [==============================] - 36s 601us/step - loss: 0.5081 - acc: 0.8241\n",
      "Epoch 7/10\n",
      "60000/60000 [==============================] - 36s 608us/step - loss: 0.4780 - acc: 0.8326\n",
      "Epoch 8/10\n",
      "60000/60000 [==============================] - 36s 605us/step - loss: 0.4538 - acc: 0.8388\n",
      "Epoch 9/10\n",
      "60000/60000 [==============================] - 36s 606us/step - loss: 0.4346 - acc: 0.8449\n",
      "Epoch 10/10\n",
      "60000/60000 [==============================] - 35s 586us/step - loss: 0.4177 - acc: 0.8507\n"
     ]
    },
    {
     "data": {
      "text/plain": [
       "<keras.callbacks.History at 0x7f5cd3d3abe0>"
      ]
     },
     "execution_count": 76,
     "metadata": {
      "tags": []
     },
     "output_type": "execute_result"
    }
   ],
   "source": [
    "model.fit(x_train, Y_train, epochs=10, batch_size = 128)"
   ]
  },
  {
   "cell_type": "code",
   "execution_count": 77,
   "metadata": {
    "colab": {
     "base_uri": "https://localhost:8080/",
     "height": 51
    },
    "colab_type": "code",
    "id": "N4idyEe9XrIH",
    "outputId": "3cbaa093-c676-4951-9445-6a25a82dbb4e"
   },
   "outputs": [
    {
     "name": "stdout",
     "output_type": "stream",
     "text": [
      "10000/10000 [==============================] - 9s 888us/step\n"
     ]
    },
    {
     "data": {
      "text/plain": [
       "[0.502073261642456, 0.8254]"
      ]
     },
     "execution_count": 77,
     "metadata": {
      "tags": []
     },
     "output_type": "execute_result"
    }
   ],
   "source": [
    "model.evaluate(x_test, Y_test)"
   ]
  },
  {
   "cell_type": "markdown",
   "metadata": {
    "colab_type": "text",
    "id": "OUAjRbiTJA9w"
   },
   "source": [
    "From above, we could see that the training error after the 10 epoches is 0.8507. The test error is 0.8254 which could show that it is a good model. However, the deep CNN model is better than transfer learning in this way."
   ]
  },
  {
   "cell_type": "markdown",
   "metadata": {
    "colab_type": "text",
    "id": "Pg2MovsFjr2i"
   },
   "source": [
    "# Exercise 3"
   ]
  },
  {
   "cell_type": "code",
   "execution_count": 0,
   "metadata": {
    "colab": {},
    "colab_type": "code",
    "id": "BvBSOO9cMpFx"
   },
   "outputs": [],
   "source": [
    "import urllib\n",
    "import pandas as pd\n",
    "\n",
    "# load the data\n",
    "link1 = \"https://s3.amazonaws.com/anly-590/url-classification/benign-urls.txt\"\n",
    "link2 = 'https://s3.amazonaws.com/anly-590/url-classification/malicious-urls.txt'\n",
    "f = urllib.request.urlopen(link1)\n",
    "g = urllib.request.urlopen(link2)\n",
    "\n",
    "# clean the comment, for example, # GOOGLE\n",
    "benign = f.readlines()\n",
    "benign = [i[:-1] for i in benign if 35 not in i]\n",
    "benign_label = list(np.repeat(0,len(benign)))\n",
    "malicious = g.readlines()\n",
    "malicious = [i[:-1] for i in malicious]\n",
    "malicious_label = list(np.repeat(1,len(malicious)))\n",
    "url_text = benign+malicious\n",
    "label = benign_label + malicious_label\n"
   ]
  },
  {
   "cell_type": "code",
   "execution_count": 79,
   "metadata": {
    "colab": {
     "base_uri": "https://localhost:8080/",
     "height": 204
    },
    "colab_type": "code",
    "id": "xyQNsh0nNJjB",
    "outputId": "adae060d-8e1e-491e-f676-b97f9ac3cb3c"
   },
   "outputs": [
    {
     "data": {
      "text/html": [
       "<div>\n",
       "<style scoped>\n",
       "    .dataframe tbody tr th:only-of-type {\n",
       "        vertical-align: middle;\n",
       "    }\n",
       "\n",
       "    .dataframe tbody tr th {\n",
       "        vertical-align: top;\n",
       "    }\n",
       "\n",
       "    .dataframe thead th {\n",
       "        text-align: right;\n",
       "    }\n",
       "</style>\n",
       "<table border=\"1\" class=\"dataframe\">\n",
       "  <thead>\n",
       "    <tr style=\"text-align: right;\">\n",
       "      <th></th>\n",
       "      <th>label</th>\n",
       "      <th>url</th>\n",
       "    </tr>\n",
       "  </thead>\n",
       "  <tbody>\n",
       "    <tr>\n",
       "      <th>0</th>\n",
       "      <td>0</td>\n",
       "      <td>b'.0.blogger.gmodules.com'</td>\n",
       "    </tr>\n",
       "    <tr>\n",
       "      <th>1</th>\n",
       "      <td>0</td>\n",
       "      <td>b'.0.client-channel.google.com'</td>\n",
       "    </tr>\n",
       "    <tr>\n",
       "      <th>2</th>\n",
       "      <td>0</td>\n",
       "      <td>b'.0.docs.google.com'</td>\n",
       "    </tr>\n",
       "    <tr>\n",
       "      <th>3</th>\n",
       "      <td>0</td>\n",
       "      <td>b'.0.drive.google.com'</td>\n",
       "    </tr>\n",
       "    <tr>\n",
       "      <th>4</th>\n",
       "      <td>0</td>\n",
       "      <td>b'.0.gvt0.cn'</td>\n",
       "    </tr>\n",
       "  </tbody>\n",
       "</table>\n",
       "</div>"
      ],
      "text/plain": [
       "   label                              url\n",
       "0      0       b'.0.blogger.gmodules.com'\n",
       "1      0  b'.0.client-channel.google.com'\n",
       "2      0            b'.0.docs.google.com'\n",
       "3      0           b'.0.drive.google.com'\n",
       "4      0                    b'.0.gvt0.cn'"
      ]
     },
     "execution_count": 79,
     "metadata": {
      "tags": []
     },
     "output_type": "execute_result"
    }
   ],
   "source": [
    "# create a dataframe for the url and label\n",
    "# 0 represent the benigh\n",
    "# 1 represent the malicious\n",
    "url = pd.DataFrame({'url':url_text, 'label': label})\n",
    "url.head(5)"
   ]
  },
  {
   "cell_type": "code",
   "execution_count": 0,
   "metadata": {
    "colab": {},
    "colab_type": "code",
    "id": "POMOSuZdpFff"
   },
   "outputs": [],
   "source": [
    "# convert the bytes type url to numerical using one-hot encoding\n",
    "sample = []\n",
    "for i in url['url']:\n",
    "    temp = []\n",
    "    for j in i:\n",
    "        temp.append(j)\n",
    "    sample.append(temp)\n",
    "      "
   ]
  },
  {
   "cell_type": "markdown",
   "metadata": {
    "colab_type": "text",
    "id": "uLfAT8GxMmfx"
   },
   "source": [
    "## RNN"
   ]
  },
  {
   "cell_type": "code",
   "execution_count": 0,
   "metadata": {
    "colab": {},
    "colab_type": "code",
    "id": "_FXPfkj1jud_"
   },
   "outputs": [],
   "source": [
    "from keras.preprocessing import sequence\n",
    "# --- Setting up constants ---\n",
    "# Number of words as features, we keep only the top most-common words\n",
    "max_features = 10000\n",
    "# Max number of words in comments (truncate the rest)\n",
    "max_len = 24 # If not set here, will use the max comment length which is 1132\n",
    "\n"
   ]
  },
  {
   "cell_type": "code",
   "execution_count": 0,
   "metadata": {
    "colab": {},
    "colab_type": "code",
    "id": "_sns_l7pzsP6"
   },
   "outputs": [],
   "source": [
    "# split the training set and test set\n",
    "from sklearn.model_selection import train_test_split\n",
    "x = sequence.pad_sequences(sample, maxlen = max_len)\n",
    "y = y_train = url['label']\n",
    "\n",
    "x_train, x_test, Y_train, Y_test = train_test_split(x, y, test_size=0.33, random_state=42)\n",
    "\n",
    "\n",
    "y_train = np_utils.to_categorical(Y_train, 2)\n",
    "y_test = np_utils.to_categorical(Y_test, 2)"
   ]
  },
  {
   "cell_type": "code",
   "execution_count": 83,
   "metadata": {
    "colab": {
     "base_uri": "https://localhost:8080/",
     "height": 51
    },
    "colab_type": "code",
    "id": "6f_9MsVJqCgZ",
    "outputId": "7adeae21-38d3-4118-ed67-646ff0f149bb"
   },
   "outputs": [
    {
     "data": {
      "text/plain": [
       "array([ 46,  97, 105, 100, 109, 112,  48,  52,  48,  50,  46, 117, 115,\n",
       "        46, 111, 114,  97,  99, 108, 101,  46,  99, 111, 109], dtype=int32)"
      ]
     },
     "execution_count": 83,
     "metadata": {
      "tags": []
     },
     "output_type": "execute_result"
    }
   ],
   "source": [
    "# print hte x_train\n",
    "x_train[0]"
   ]
  },
  {
   "cell_type": "code",
   "execution_count": 84,
   "metadata": {
    "colab": {
     "base_uri": "https://localhost:8080/",
     "height": 238
    },
    "colab_type": "code",
    "id": "IyWwwOxBx4AD",
    "outputId": "41a6e775-4234-4eaa-f38d-cd54090ae497"
   },
   "outputs": [
    {
     "name": "stdout",
     "output_type": "stream",
     "text": [
      "_________________________________________________________________\n",
      "Layer (type)                 Output Shape              Param #   \n",
      "=================================================================\n",
      "embedding_3 (Embedding)      (None, None, 24)          240000    \n",
      "_________________________________________________________________\n",
      "simple_rnn_2 (SimpleRNN)     (None, 64)                5696      \n",
      "_________________________________________________________________\n",
      "dense_22 (Dense)             (None, 2)                 130       \n",
      "=================================================================\n",
      "Total params: 245,826\n",
      "Trainable params: 245,826\n",
      "Non-trainable params: 0\n",
      "_________________________________________________________________\n"
     ]
    }
   ],
   "source": [
    "# --- Training model: Embedding + RNN ---\n",
    "model = Sequential()\n",
    "model.add(Embedding(max_features, max_len))\n",
    "model.add(SimpleRNN(64))\n",
    "model.add(Dense(2, activation ='sigmoid'))\n",
    "model.summary()"
   ]
  },
  {
   "cell_type": "code",
   "execution_count": 85,
   "metadata": {
    "colab": {
     "base_uri": "https://localhost:8080/",
     "height": 374
    },
    "colab_type": "code",
    "id": "UvDjsk4my1S_",
    "outputId": "8171b07a-0a8d-485b-d0dc-d37f40299728"
   },
   "outputs": [
    {
     "name": "stdout",
     "output_type": "stream",
     "text": [
      "Train on 33823 samples, validate on 11275 samples\n",
      "Epoch 1/10\n",
      "33823/33823 [==============================] - 6s 189us/step - loss: 0.0944 - acc: 0.9785 - val_loss: 0.4257 - val_acc: 0.8017\n",
      "Epoch 2/10\n",
      "33823/33823 [==============================] - 5s 155us/step - loss: 0.0647 - acc: 0.9801 - val_loss: 0.0568 - val_acc: 0.9814\n",
      "Epoch 3/10\n",
      "33823/33823 [==============================] - 5s 156us/step - loss: 0.0443 - acc: 0.9829 - val_loss: 0.0533 - val_acc: 0.9813\n",
      "Epoch 4/10\n",
      "33823/33823 [==============================] - 5s 156us/step - loss: 0.0319 - acc: 0.9870 - val_loss: 0.0271 - val_acc: 0.9867\n",
      "Epoch 5/10\n",
      "33823/33823 [==============================] - 5s 155us/step - loss: 0.0275 - acc: 0.9876 - val_loss: 0.0237 - val_acc: 0.9877\n",
      "Epoch 6/10\n",
      "33823/33823 [==============================] - 5s 154us/step - loss: 0.0263 - acc: 0.9885 - val_loss: 0.0306 - val_acc: 0.9861\n",
      "Epoch 7/10\n",
      "33823/33823 [==============================] - 5s 155us/step - loss: 0.0247 - acc: 0.9887 - val_loss: 0.0242 - val_acc: 0.9892\n",
      "Epoch 8/10\n",
      "33823/33823 [==============================] - 5s 154us/step - loss: 0.0225 - acc: 0.9897 - val_loss: 0.0233 - val_acc: 0.9882\n",
      "Epoch 9/10\n",
      "33823/33823 [==============================] - 5s 153us/step - loss: 0.0225 - acc: 0.9898 - val_loss: 0.0406 - val_acc: 0.9842\n",
      "Epoch 10/10\n",
      "33823/33823 [==============================] - 5s 157us/step - loss: 0.0217 - acc: 0.9911 - val_loss: 0.0221 - val_acc: 0.9900\n"
     ]
    }
   ],
   "source": [
    "# --- Compile Model ---\n",
    "#Compile model\n",
    "model.compile(optimizer = 'rmsprop',\n",
    "             loss = 'binary_crossentropy',\n",
    "             metrics=['acc'])\n",
    "history = model.fit(x_train, y_train, \n",
    "                    epochs = 10, batch_size = 128, \n",
    "                    validation_split = 0.25,verbose=1)"
   ]
  },
  {
   "cell_type": "code",
   "execution_count": 86,
   "metadata": {
    "colab": {
     "base_uri": "https://localhost:8080/",
     "height": 51
    },
    "colab_type": "code",
    "id": "T7RvXiay0hzA",
    "outputId": "61bdf46f-06ad-43a5-984b-9a7ce8f6b3da"
   },
   "outputs": [
    {
     "name": "stdout",
     "output_type": "stream",
     "text": [
      "22213/22213 [==============================] - 4s 165us/step\n"
     ]
    },
    {
     "data": {
      "text/plain": [
       "[0.023528370567215306, 0.9882276144600008]"
      ]
     },
     "execution_count": 86,
     "metadata": {
      "tags": []
     },
     "output_type": "execute_result"
    }
   ],
   "source": [
    "# evaluate for the test set\n",
    "model.evaluate(x_test, y_test)"
   ]
  },
  {
   "cell_type": "markdown",
   "metadata": {
    "colab_type": "text",
    "id": "Fl8Zh4Z1UXzB"
   },
   "source": [
    "The accuracy for the model is 0.98822"
   ]
  },
  {
   "cell_type": "markdown",
   "metadata": {
    "colab_type": "text",
    "id": "ZoLmy4Ip1rm0"
   },
   "source": [
    "## CNN"
   ]
  },
  {
   "cell_type": "code",
   "execution_count": 87,
   "metadata": {
    "colab": {
     "base_uri": "https://localhost:8080/",
     "height": 306
    },
    "colab_type": "code",
    "id": "A-Z1md4T1oAJ",
    "outputId": "acd7096f-37c5-4d3a-cd12-f3bc7de4763b"
   },
   "outputs": [
    {
     "name": "stdout",
     "output_type": "stream",
     "text": [
      "_________________________________________________________________\n",
      "Layer (type)                 Output Shape              Param #   \n",
      "=================================================================\n",
      "embedding_4 (Embedding)      (None, 24, 100)           1000000   \n",
      "_________________________________________________________________\n",
      "conv1d_2 (Conv1D)            (None, 23, 128)           25728     \n",
      "_________________________________________________________________\n",
      "max_pooling1d_2 (MaxPooling1 (None, 5, 128)            0         \n",
      "_________________________________________________________________\n",
      "flatten_10 (Flatten)         (None, 640)               0         \n",
      "_________________________________________________________________\n",
      "dense_23 (Dense)             (None, 2)                 1282      \n",
      "=================================================================\n",
      "Total params: 1,027,010\n",
      "Trainable params: 1,027,010\n",
      "Non-trainable params: 0\n",
      "_________________________________________________________________\n"
     ]
    }
   ],
   "source": [
    "## CNN\n",
    "# --- Setting up a Sigmoid Sequential Model ---\n",
    "# Initialize model\n",
    "model_conv = Sequential()\n",
    "model_conv.add(Embedding(10000,100, input_length=24))\n",
    "model_conv.add(Conv1D(128, 2, activation='relu'))\n",
    "model_conv.add(MaxPooling1D(pool_size=4))\n",
    "model_conv.add(Flatten())\n",
    "model_conv.add(Dense(2, activation='softmax'))\n",
    "model_conv.summary()"
   ]
  },
  {
   "cell_type": "code",
   "execution_count": 0,
   "metadata": {
    "colab": {},
    "colab_type": "code",
    "id": "iN-lOCzn3u5u"
   },
   "outputs": [],
   "source": [
    "model_conv.compile(loss='categorical_crossentropy',\n",
    "              optimizer='rmsprop',\n",
    "              metrics=['accuracy'])\n"
   ]
  },
  {
   "cell_type": "code",
   "execution_count": 89,
   "metadata": {
    "colab": {
     "base_uri": "https://localhost:8080/",
     "height": 408
    },
    "colab_type": "code",
    "id": "eGiUyp_V3zNm",
    "outputId": "2aa0f0d6-da9f-4932-e9db-4b0b4396b492"
   },
   "outputs": [
    {
     "name": "stdout",
     "output_type": "stream",
     "text": [
      "Train on 36078 samples, validate on 9020 samples\n",
      "Epoch 1/10\n",
      "36078/36078 [==============================] - 6s 158us/step - loss: 0.0671 - acc: 0.9798 - val_loss: 0.0526 - val_acc: 0.9800\n",
      "Epoch 2/10\n",
      "36078/36078 [==============================] - 4s 123us/step - loss: 0.0473 - acc: 0.9822 - val_loss: 0.0476 - val_acc: 0.9813\n",
      "Epoch 3/10\n",
      "36078/36078 [==============================] - 4s 124us/step - loss: 0.0421 - acc: 0.9839 - val_loss: 0.0459 - val_acc: 0.9814\n",
      "Epoch 4/10\n",
      "36078/36078 [==============================] - 4s 125us/step - loss: 0.0390 - acc: 0.9850 - val_loss: 0.0436 - val_acc: 0.9833\n",
      "Epoch 5/10\n",
      "36078/36078 [==============================] - 4s 124us/step - loss: 0.0365 - acc: 0.9861 - val_loss: 0.0473 - val_acc: 0.9827\n",
      "Epoch 6/10\n",
      "36078/36078 [==============================] - 5s 125us/step - loss: 0.0338 - acc: 0.9868 - val_loss: 0.0448 - val_acc: 0.9815\n",
      "Epoch 7/10\n",
      "36078/36078 [==============================] - 4s 124us/step - loss: 0.0323 - acc: 0.9878 - val_loss: 0.0437 - val_acc: 0.9830\n",
      "Epoch 8/10\n",
      "36078/36078 [==============================] - 4s 124us/step - loss: 0.0304 - acc: 0.9886 - val_loss: 0.0499 - val_acc: 0.9831\n",
      "Epoch 9/10\n",
      "36078/36078 [==============================] - 4s 124us/step - loss: 0.0288 - acc: 0.9889 - val_loss: 0.0508 - val_acc: 0.9777\n",
      "Epoch 10/10\n",
      "36078/36078 [==============================] - 4s 124us/step - loss: 0.0273 - acc: 0.9890 - val_loss: 0.0462 - val_acc: 0.9834\n",
      "22213/22213 [==============================] - 2s 75us/step\n",
      "acc: 98.23%\n"
     ]
    }
   ],
   "source": [
    "model_conv.fit(x_train, y_train,\n",
    "                   epochs = 10,\n",
    "                   batch_size = 64,validation_split = 0.2)\n",
    "\n",
    "scores = model_conv.evaluate(x_test, y_test) \n",
    "print(\"%s: %.2f%%\" % (model_conv.metrics_names[1], scores[1]*100))"
   ]
  },
  {
   "cell_type": "code",
   "execution_count": 90,
   "metadata": {
    "colab": {
     "base_uri": "https://localhost:8080/",
     "height": 34
    },
    "colab_type": "code",
    "id": "H3BXAsNlMOeO",
    "outputId": "f7f5056d-c872-4688-c36c-502deff8e918"
   },
   "outputs": [
    {
     "name": "stdout",
     "output_type": "stream",
     "text": [
      "acc: 98.23%\n"
     ]
    }
   ],
   "source": [
    "# test accuracy\n",
    "print(\"%s: %.2f%%\" % (model_conv.metrics_names[1], scores[1]*100))"
   ]
  },
  {
   "cell_type": "markdown",
   "metadata": {
    "colab_type": "text",
    "id": "I9z6WwUKAqbK"
   },
   "source": [
    "## Compare the two methods"
   ]
  },
  {
   "cell_type": "markdown",
   "metadata": {
    "colab_type": "text",
    "id": "JPi72wpGDr8F"
   },
   "source": [
    "### RNN and CNN"
   ]
  },
  {
   "cell_type": "code",
   "execution_count": 0,
   "metadata": {
    "colab": {},
    "colab_type": "code",
    "id": "CMdnTxjPAp8_"
   },
   "outputs": [],
   "source": [
    "from sklearn.metrics import roc_curve\n",
    "y_pred_rnn =model.predict(x_test)\n",
    "y_pred_cnn =model_conv.predict(x_test)\n",
    "# convert the categorical 2D to 1D dimension for y_prediction\n",
    "Y_pred_rnn = []\n",
    "Y_pred_cnn = []\n",
    "for i in y_pred_rnn:\n",
    "  if i[0] >= i[1]:\n",
    "    Y_pred_rnn.append(0)\n",
    "  else:\n",
    "    Y_pred_rnn.append(1)\n",
    "\n",
    "for i in y_pred_cnn:\n",
    "  if i[0] >= i[1]:\n",
    "    Y_pred_cnn.append(0)\n",
    "  else:\n",
    "    Y_pred_cnn.append(1)    \n",
    "fpr_rnn, tpr_rnn, thresholds_r = roc_curve(Y_test, Y_pred_rnn)\n",
    "fpr_cnn, tpr_cnn, thresholds_c = roc_curve(Y_test, Y_pred_cnn)"
   ]
  },
  {
   "cell_type": "code",
   "execution_count": 92,
   "metadata": {
    "colab": {
     "base_uri": "https://localhost:8080/",
     "height": 376
    },
    "colab_type": "code",
    "id": "gpXbKECkCjWy",
    "outputId": "85ea9445-d5d5-43db-a64e-48a9f36a6378"
   },
   "outputs": [
    {
     "data": {
      "image/png": "[encoded data removed]",
      "text/plain": [
       "<matplotlib.figure.Figure at 0x7f5cd1966ef0>"
      ]
     },
     "metadata": {
      "tags": []
     },
     "output_type": "display_data"
    }
   ],
   "source": [
    "# auc\n",
    "from sklearn.metrics import auc\n",
    "auc_rnn = auc(fpr_rnn, tpr_rnn)\n",
    "auc_cnn = auc(fpr_cnn, tpr_cnn)\n",
    "\n",
    "# ROC curve\n",
    "plt.figure(1)\n",
    "plt.plot([0, 1], [0, 1], 'k--')\n",
    "plt.plot(fpr_rnn, tpr_rnn, label='RNN (area = {:.3f})'.format(auc_rnn))\n",
    "plt.plot(fpr_cnn, tpr_cnn, label='CNN (area = {:.3f})'.format(auc_cnn))\n",
    "plt.xlabel('False positive rate')\n",
    "plt.ylabel('True positive rate')\n",
    "plt.title('ROC curve')\n",
    "plt.legend(loc='best')\n",
    "plt.show()"
   ]
  },
  {
   "cell_type": "markdown",
   "metadata": {
    "colab_type": "text",
    "id": "gAH-qWBbKWtt"
   },
   "source": [
    "From the ROC curve, we could see that the RNN is better than CNN since  the area under the curve of RNN is larger."
   ]
  }
 ],
 "metadata": {
  "accelerator": "GPU",
  "colab": {
   "collapsed_sections": [],
   "name": "Copy of hw2.ipynb",
   "provenance": [],
   "version": "0.3.2"
  },
  "kernelspec": {
   "display_name": "Python 3",
   "language": "python",
   "name": "python3"
  },
  "language_info": {
   "codemirror_mode": {
    "name": "ipython",
    "version": 3
   },
   "file_extension": ".py",
   "mimetype": "text/x-python",
   "name": "python",
   "nbconvert_exporter": "python",
   "pygments_lexer": "ipython3",
   "version": "3.7.1"
  }
 },
 "nbformat": 4,
 "nbformat_minor": 1
}
